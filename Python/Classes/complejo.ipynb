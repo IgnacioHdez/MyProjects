{
 "cells": [
  {
   "cell_type": "code",
   "execution_count": 5,
   "metadata": {
    "collapsed": false,
    "deletable": true,
    "editable": true
   },
   "outputs": [],
   "source": [
    "#Esta clase es de prueba\n",
    "\n",
    "class complejo:\n",
    "    #Here I define the creator\n",
    "    def __init__(self,r,i):\n",
    "        self.r=r\n",
    "        self.i=i\n",
    "    \n",
    "    def __init__(self,r,i,t):\n",
    "        self.r=i\n",
    "        self.i=r\n",
    "    \n",
    "    def __str__(self):\n",
    "        if self.i<0:\n",
    "            return(str(self.r)+str(self.i)+'i')\n",
    "        else:\n",
    "            return(str(self.r)+'+'+str(self.i)+'i')\n",
    "    "
   ]
  },
  {
   "cell_type": "code",
   "execution_count": null,
   "metadata": {
    "collapsed": false,
    "deletable": true,
    "editable": true
   },
   "outputs": [],
   "source": []
  }
 ],
 "metadata": {
  "kernelspec": {
   "display_name": "Python 3",
   "language": "python",
   "name": "python3"
  },
  "language_info": {
   "codemirror_mode": {
    "name": "ipython",
    "version": 3
   },
   "file_extension": ".py",
   "mimetype": "text/x-python",
   "name": "python",
   "nbconvert_exporter": "python",
   "pygments_lexer": "ipython3",
   "version": "3.5.2"
  }
 },
 "nbformat": 4,
 "nbformat_minor": 2
}
